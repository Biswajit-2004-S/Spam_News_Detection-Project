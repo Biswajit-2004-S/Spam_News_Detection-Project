{
 "cells": [
  {
   "cell_type": "markdown",
   "id": "66439403-d5e7-4826-a1f0-4d89fdf767b8",
   "metadata": {},
   "source": [
    "## Importing datsets\n"
   ]
  },
  {
   "cell_type": "code",
   "execution_count": 2,
   "id": "831cf7ec-006b-45fd-9ab5-e4ad80bf36f4",
   "metadata": {},
   "outputs": [],
   "source": [
    "import pandas as pd\n",
    "import numpy as np\n",
    "\n",
    "True_news = pd.read_csv('True.csv')\n",
    "Fake_news = pd.read_csv('Fake.csv')"
   ]
  },
  {
   "cell_type": "code",
   "execution_count": 9,
   "id": "918a7e38-4d90-42d6-82c7-72b1ca3abe17",
   "metadata": {},
   "outputs": [
    {
     "data": {
      "text/html": [
       "<div>\n",
       "<style scoped>\n",
       "    .dataframe tbody tr th:only-of-type {\n",
       "        vertical-align: middle;\n",
       "    }\n",
       "\n",
       "    .dataframe tbody tr th {\n",
       "        vertical-align: top;\n",
       "    }\n",
       "\n",
       "    .dataframe thead th {\n",
       "        text-align: right;\n",
       "    }\n",
       "</style>\n",
       "<table border=\"1\" class=\"dataframe\">\n",
       "  <thead>\n",
       "    <tr style=\"text-align: right;\">\n",
       "      <th></th>\n",
       "      <th>title</th>\n",
       "      <th>text</th>\n",
       "      <th>subject</th>\n",
       "      <th>date</th>\n",
       "      <th>label</th>\n",
       "    </tr>\n",
       "  </thead>\n",
       "  <tbody>\n",
       "    <tr>\n",
       "      <th>0</th>\n",
       "      <td>Donald Trump Sends Out Embarrassing New Year’...</td>\n",
       "      <td>Donald Trump just couldn t wish all Americans ...</td>\n",
       "      <td>News</td>\n",
       "      <td>December 31, 2017</td>\n",
       "      <td>1</td>\n",
       "    </tr>\n",
       "    <tr>\n",
       "      <th>1</th>\n",
       "      <td>Drunk Bragging Trump Staffer Started Russian ...</td>\n",
       "      <td>House Intelligence Committee Chairman Devin Nu...</td>\n",
       "      <td>News</td>\n",
       "      <td>December 31, 2017</td>\n",
       "      <td>1</td>\n",
       "    </tr>\n",
       "    <tr>\n",
       "      <th>2</th>\n",
       "      <td>Sheriff David Clarke Becomes An Internet Joke...</td>\n",
       "      <td>On Friday, it was revealed that former Milwauk...</td>\n",
       "      <td>News</td>\n",
       "      <td>December 30, 2017</td>\n",
       "      <td>1</td>\n",
       "    </tr>\n",
       "    <tr>\n",
       "      <th>3</th>\n",
       "      <td>Trump Is So Obsessed He Even Has Obama’s Name...</td>\n",
       "      <td>On Christmas day, Donald Trump announced that ...</td>\n",
       "      <td>News</td>\n",
       "      <td>December 29, 2017</td>\n",
       "      <td>1</td>\n",
       "    </tr>\n",
       "    <tr>\n",
       "      <th>4</th>\n",
       "      <td>Pope Francis Just Called Out Donald Trump Dur...</td>\n",
       "      <td>Pope Francis used his annual Christmas Day mes...</td>\n",
       "      <td>News</td>\n",
       "      <td>December 25, 2017</td>\n",
       "      <td>1</td>\n",
       "    </tr>\n",
       "    <tr>\n",
       "      <th>...</th>\n",
       "      <td>...</td>\n",
       "      <td>...</td>\n",
       "      <td>...</td>\n",
       "      <td>...</td>\n",
       "      <td>...</td>\n",
       "    </tr>\n",
       "    <tr>\n",
       "      <th>23476</th>\n",
       "      <td>McPain: John McCain Furious That Iran Treated ...</td>\n",
       "      <td>21st Century Wire says As 21WIRE reported earl...</td>\n",
       "      <td>Middle-east</td>\n",
       "      <td>January 16, 2016</td>\n",
       "      <td>1</td>\n",
       "    </tr>\n",
       "    <tr>\n",
       "      <th>23477</th>\n",
       "      <td>JUSTICE? Yahoo Settles E-mail Privacy Class-ac...</td>\n",
       "      <td>21st Century Wire says It s a familiar theme. ...</td>\n",
       "      <td>Middle-east</td>\n",
       "      <td>January 16, 2016</td>\n",
       "      <td>1</td>\n",
       "    </tr>\n",
       "    <tr>\n",
       "      <th>23478</th>\n",
       "      <td>Sunnistan: US and Allied ‘Safe Zone’ Plan to T...</td>\n",
       "      <td>Patrick Henningsen  21st Century WireRemember ...</td>\n",
       "      <td>Middle-east</td>\n",
       "      <td>January 15, 2016</td>\n",
       "      <td>1</td>\n",
       "    </tr>\n",
       "    <tr>\n",
       "      <th>23479</th>\n",
       "      <td>How to Blow $700 Million: Al Jazeera America F...</td>\n",
       "      <td>21st Century Wire says Al Jazeera America will...</td>\n",
       "      <td>Middle-east</td>\n",
       "      <td>January 14, 2016</td>\n",
       "      <td>1</td>\n",
       "    </tr>\n",
       "    <tr>\n",
       "      <th>23480</th>\n",
       "      <td>10 U.S. Navy Sailors Held by Iranian Military ...</td>\n",
       "      <td>21st Century Wire says As 21WIRE predicted in ...</td>\n",
       "      <td>Middle-east</td>\n",
       "      <td>January 12, 2016</td>\n",
       "      <td>1</td>\n",
       "    </tr>\n",
       "  </tbody>\n",
       "</table>\n",
       "<p>23481 rows × 5 columns</p>\n",
       "</div>"
      ],
      "text/plain": [
       "                                                   title  \\\n",
       "0       Donald Trump Sends Out Embarrassing New Year’...   \n",
       "1       Drunk Bragging Trump Staffer Started Russian ...   \n",
       "2       Sheriff David Clarke Becomes An Internet Joke...   \n",
       "3       Trump Is So Obsessed He Even Has Obama’s Name...   \n",
       "4       Pope Francis Just Called Out Donald Trump Dur...   \n",
       "...                                                  ...   \n",
       "23476  McPain: John McCain Furious That Iran Treated ...   \n",
       "23477  JUSTICE? Yahoo Settles E-mail Privacy Class-ac...   \n",
       "23478  Sunnistan: US and Allied ‘Safe Zone’ Plan to T...   \n",
       "23479  How to Blow $700 Million: Al Jazeera America F...   \n",
       "23480  10 U.S. Navy Sailors Held by Iranian Military ...   \n",
       "\n",
       "                                                    text      subject  \\\n",
       "0      Donald Trump just couldn t wish all Americans ...         News   \n",
       "1      House Intelligence Committee Chairman Devin Nu...         News   \n",
       "2      On Friday, it was revealed that former Milwauk...         News   \n",
       "3      On Christmas day, Donald Trump announced that ...         News   \n",
       "4      Pope Francis used his annual Christmas Day mes...         News   \n",
       "...                                                  ...          ...   \n",
       "23476  21st Century Wire says As 21WIRE reported earl...  Middle-east   \n",
       "23477  21st Century Wire says It s a familiar theme. ...  Middle-east   \n",
       "23478  Patrick Henningsen  21st Century WireRemember ...  Middle-east   \n",
       "23479  21st Century Wire says Al Jazeera America will...  Middle-east   \n",
       "23480  21st Century Wire says As 21WIRE predicted in ...  Middle-east   \n",
       "\n",
       "                    date  label  \n",
       "0      December 31, 2017      1  \n",
       "1      December 31, 2017      1  \n",
       "2      December 30, 2017      1  \n",
       "3      December 29, 2017      1  \n",
       "4      December 25, 2017      1  \n",
       "...                  ...    ...  \n",
       "23476   January 16, 2016      1  \n",
       "23477   January 16, 2016      1  \n",
       "23478   January 15, 2016      1  \n",
       "23479   January 14, 2016      1  \n",
       "23480   January 12, 2016      1  \n",
       "\n",
       "[23481 rows x 5 columns]"
      ]
     },
     "execution_count": 9,
     "metadata": {},
     "output_type": "execute_result"
    }
   ],
   "source": [
    "# True_news\n",
    "# Fake_news"
   ]
  },
  {
   "cell_type": "code",
   "execution_count": 3,
   "id": "cfe42adf-50c3-4d9d-9af9-ffd0194a41e0",
   "metadata": {},
   "outputs": [],
   "source": [
    "True_news['label']=0\n",
    "Fake_news['label']=1"
   ]
  },
  {
   "cell_type": "markdown",
   "id": "6fa50152-4358-49bf-b111-34729312c43f",
   "metadata": {},
   "source": [
    "**We are giving labels to our data files to know if the given dataset is True news or Fake news**"
   ]
  },
  {
   "cell_type": "markdown",
   "id": "51f53538-6a0a-4779-af3b-6b564f74b479",
   "metadata": {},
   "source": [
    "**The end label column is the y_train**\n",
    "**The startin colums are X_train**"
   ]
  },
  {
   "cell_type": "markdown",
   "id": "06462b61-284d-49ab-8997-caf18497467b",
   "metadata": {},
   "source": [
    "**Let us only take the text and label columns of data**"
   ]
  },
  {
   "cell_type": "code",
   "execution_count": 4,
   "id": "0da21d68-cf02-4231-870d-c5f42c4a019c",
   "metadata": {},
   "outputs": [],
   "source": [
    "dataset1=True_news[['text','label']]\n",
    "dataset2=Fake_news[['text','label']]"
   ]
  },
  {
   "cell_type": "code",
   "execution_count": 13,
   "id": "80d38a35-a950-4e27-801c-b5e52f8caff4",
   "metadata": {},
   "outputs": [],
   "source": [
    "# dataset1\n",
    "# dataset2"
   ]
  },
  {
   "cell_type": "markdown",
   "id": "0397b702-b8c2-4135-a339-69a1006875d9",
   "metadata": {},
   "source": [
    "**Let's merge the two datasets**"
   ]
  },
  {
   "cell_type": "code",
   "execution_count": 5,
   "id": "a4671449-17d2-46a6-8a4e-fe3f4ff74047",
   "metadata": {},
   "outputs": [],
   "source": [
    "dataset=pd.concat([dataset1,dataset2])"
   ]
  },
  {
   "cell_type": "code",
   "execution_count": 17,
   "id": "9e33efcd-41a9-4a40-be05-8c503d401bc3",
   "metadata": {},
   "outputs": [],
   "source": [
    "# dataset"
   ]
  },
  {
   "cell_type": "code",
   "execution_count": 6,
   "id": "ad7e1f73-5ab0-41f9-b325-88fbad1c5ca7",
   "metadata": {},
   "outputs": [
    {
     "data": {
      "text/plain": [
       "text     0\n",
       "label    0\n",
       "dtype: int64"
      ]
     },
     "execution_count": 6,
     "metadata": {},
     "output_type": "execute_result"
    }
   ],
   "source": [
    "#Checking for null values\n",
    "dataset.isnull().sum()"
   ]
  },
  {
   "cell_type": "markdown",
   "id": "de842570-3fb8-4d1e-a5bf-5149b0bdf562",
   "metadata": {},
   "source": [
    "**As we can see there are no null values in the dataset**"
   ]
  },
  {
   "cell_type": "code",
   "execution_count": 7,
   "id": "1a4f19b6-5535-4587-a610-23e1525b87ee",
   "metadata": {},
   "outputs": [
    {
     "data": {
      "text/plain": [
       "label\n",
       "1    23481\n",
       "0    21417\n",
       "Name: count, dtype: int64"
      ]
     },
     "execution_count": 7,
     "metadata": {},
     "output_type": "execute_result"
    }
   ],
   "source": [
    "#Lets check how many True and Fake news are there in my Dataset through labels\n",
    "dataset['label'].value_counts()"
   ]
  },
  {
   "cell_type": "code",
   "execution_count": 8,
   "id": "19b00506-ccd5-46f2-ad19-5ec45ce77d95",
   "metadata": {},
   "outputs": [],
   "source": [
    "#shuffiling the values, for not getting a biased answer \n",
    "dataset=dataset.sample(frac=1)"
   ]
  },
  {
   "cell_type": "code",
   "execution_count": 9,
   "id": "1b6fec73-c742-4d97-aeec-79183d7b6e7c",
   "metadata": {},
   "outputs": [
    {
     "data": {
      "text/html": [
       "<div>\n",
       "<style scoped>\n",
       "    .dataframe tbody tr th:only-of-type {\n",
       "        vertical-align: middle;\n",
       "    }\n",
       "\n",
       "    .dataframe tbody tr th {\n",
       "        vertical-align: top;\n",
       "    }\n",
       "\n",
       "    .dataframe thead th {\n",
       "        text-align: right;\n",
       "    }\n",
       "</style>\n",
       "<table border=\"1\" class=\"dataframe\">\n",
       "  <thead>\n",
       "    <tr style=\"text-align: right;\">\n",
       "      <th></th>\n",
       "      <th>text</th>\n",
       "      <th>label</th>\n",
       "    </tr>\n",
       "  </thead>\n",
       "  <tbody>\n",
       "    <tr>\n",
       "      <th>2430</th>\n",
       "      <td>When White House spokesliar Sean Spicer demand...</td>\n",
       "      <td>1</td>\n",
       "    </tr>\n",
       "    <tr>\n",
       "      <th>8132</th>\n",
       "      <td>GREENSBORO, N.C. (Reuters) - Hillary Clinton g...</td>\n",
       "      <td>0</td>\n",
       "    </tr>\n",
       "    <tr>\n",
       "      <th>6289</th>\n",
       "      <td>NEW YORK (Reuters) - More than 60 percent of A...</td>\n",
       "      <td>0</td>\n",
       "    </tr>\n",
       "    <tr>\n",
       "      <th>21273</th>\n",
       "      <td>This letter is quite possibly the most importa...</td>\n",
       "      <td>1</td>\n",
       "    </tr>\n",
       "    <tr>\n",
       "      <th>8635</th>\n",
       "      <td>Yet another victim of sexual abuse can thank a...</td>\n",
       "      <td>1</td>\n",
       "    </tr>\n",
       "    <tr>\n",
       "      <th>...</th>\n",
       "      <td>...</td>\n",
       "      <td>...</td>\n",
       "    </tr>\n",
       "    <tr>\n",
       "      <th>9689</th>\n",
       "      <td>CHICAGO (Reuters) - Dozens of Illinois social ...</td>\n",
       "      <td>0</td>\n",
       "    </tr>\n",
       "    <tr>\n",
       "      <th>3764</th>\n",
       "      <td>When Donald Trump named Steve Bannon as his ch...</td>\n",
       "      <td>1</td>\n",
       "    </tr>\n",
       "    <tr>\n",
       "      <th>7106</th>\n",
       "      <td>Justin Timberlake gave a speech at the 2016 iH...</td>\n",
       "      <td>1</td>\n",
       "    </tr>\n",
       "    <tr>\n",
       "      <th>12678</th>\n",
       "      <td>As I ve said for years   on radio, TV and in p...</td>\n",
       "      <td>1</td>\n",
       "    </tr>\n",
       "    <tr>\n",
       "      <th>11154</th>\n",
       "      <td>Watch here:@United overbook #flight3411 and de...</td>\n",
       "      <td>1</td>\n",
       "    </tr>\n",
       "  </tbody>\n",
       "</table>\n",
       "<p>44898 rows × 2 columns</p>\n",
       "</div>"
      ],
      "text/plain": [
       "                                                    text  label\n",
       "2430   When White House spokesliar Sean Spicer demand...      1\n",
       "8132   GREENSBORO, N.C. (Reuters) - Hillary Clinton g...      0\n",
       "6289   NEW YORK (Reuters) - More than 60 percent of A...      0\n",
       "21273  This letter is quite possibly the most importa...      1\n",
       "8635   Yet another victim of sexual abuse can thank a...      1\n",
       "...                                                  ...    ...\n",
       "9689   CHICAGO (Reuters) - Dozens of Illinois social ...      0\n",
       "3764   When Donald Trump named Steve Bannon as his ch...      1\n",
       "7106   Justin Timberlake gave a speech at the 2016 iH...      1\n",
       "12678  As I ve said for years   on radio, TV and in p...      1\n",
       "11154  Watch here:@United overbook #flight3411 and de...      1\n",
       "\n",
       "[44898 rows x 2 columns]"
      ]
     },
     "execution_count": 9,
     "metadata": {},
     "output_type": "execute_result"
    }
   ],
   "source": [
    "dataset"
   ]
  },
  {
   "cell_type": "markdown",
   "id": "baa8079c-61b4-4e74-b41e-418713c60599",
   "metadata": {},
   "source": [
    "**Thus we can see that our dataset is shuffled**"
   ]
  },
  {
   "cell_type": "markdown",
   "id": "51962b11-9ed6-4599-afcf-d924a26e9468",
   "metadata": {},
   "source": [
    "## NLP PART"
   ]
  },
  {
   "cell_type": "markdown",
   "id": "5fea30d9-355f-4b4a-b4f9-03f91365c506",
   "metadata": {},
   "source": [
    "**Our Model/Python will not understand this text datas so we need to encode the data to 0's and 1's**"
   ]
  },
  {
   "cell_type": "code",
   "execution_count": 10,
   "id": "b99570a4-43af-4cf6-8088-11ef62ad2009",
   "metadata": {},
   "outputs": [],
   "source": [
    "import nltk\n",
    "import re #regex used to clean data it works on fuzzy logic\n",
    "from nltk.corpus import stopwords\n",
    "from nltk.stem import WordNetLemmatizer"
   ]
  },
  {
   "cell_type": "code",
   "execution_count": 11,
   "id": "7fd86d33-3094-4a42-9daa-4656a419f63f",
   "metadata": {},
   "outputs": [
    {
     "name": "stderr",
     "output_type": "stream",
     "text": [
      "[nltk_data] Downloading package stopwords to\n",
      "[nltk_data]     C:\\Users\\ASUS\\AppData\\Roaming\\nltk_data...\n",
      "[nltk_data]   Package stopwords is already up-to-date!\n"
     ]
    },
    {
     "data": {
      "text/plain": [
       "True"
      ]
     },
     "execution_count": 11,
     "metadata": {},
     "output_type": "execute_result"
    }
   ],
   "source": [
    "nltk.download('stopwords')\n"
   ]
  },
  {
   "cell_type": "code",
   "execution_count": 12,
   "id": "1904a53e-28b6-48d2-b682-2bd5ba0f868d",
   "metadata": {},
   "outputs": [
    {
     "name": "stderr",
     "output_type": "stream",
     "text": [
      "[nltk_data] Downloading package wordnet to\n",
      "[nltk_data]     C:\\Users\\ASUS\\AppData\\Roaming\\nltk_data...\n",
      "[nltk_data]   Package wordnet is already up-to-date!\n"
     ]
    },
    {
     "data": {
      "text/plain": [
       "True"
      ]
     },
     "execution_count": 12,
     "metadata": {},
     "output_type": "execute_result"
    }
   ],
   "source": [
    "ps = WordNetLemmatizer()\n",
    "stopwords = stopwords.words('english')\n",
    "nltk.download('wordnet')"
   ]
  },
  {
   "cell_type": "code",
   "execution_count": 13,
   "id": "ef53f15d-2f38-49ac-a76f-41479431162a",
   "metadata": {},
   "outputs": [],
   "source": [
    "def clean_row(row):\n",
    "    row = row.lower()\n",
    "    row = re.sub('[^a-zA-Z]',' ',row)\n",
    "    ## splitting each word in the row\n",
    "    token = row.split()\n",
    "    ## removing the repetative stopwords\n",
    "    news = [ps.lemmatize(word) for word in token if not word in stopwords]\n",
    "\n",
    "    cleaned_news = ' '.join(news)\n",
    "    return cleaned_news\n",
    "    "
   ]
  },
  {
   "cell_type": "markdown",
   "id": "7a71f84c-9257-4881-b7e2-2aa617b90e84",
   "metadata": {},
   "source": [
    "Now we will be converint this data into vectors for example each unique word in the row will be assigned an value(number) and that will be feeded to our model as our model can't understand the text values "
   ]
  },
  {
   "cell_type": "code",
   "execution_count": 14,
   "id": "06c7af7e-b7ef-4a70-a6a7-999698d643a9",
   "metadata": {},
   "outputs": [
    {
     "data": {
      "text/plain": [
       "2430     When White House spokesliar Sean Spicer demand...\n",
       "8132     GREENSBORO, N.C. (Reuters) - Hillary Clinton g...\n",
       "6289     NEW YORK (Reuters) - More than 60 percent of A...\n",
       "21273    This letter is quite possibly the most importa...\n",
       "8635     Yet another victim of sexual abuse can thank a...\n",
       "                               ...                        \n",
       "9689     CHICAGO (Reuters) - Dozens of Illinois social ...\n",
       "3764     When Donald Trump named Steve Bannon as his ch...\n",
       "7106     Justin Timberlake gave a speech at the 2016 iH...\n",
       "12678    As I ve said for years   on radio, TV and in p...\n",
       "11154    Watch here:@United overbook #flight3411 and de...\n",
       "Name: text, Length: 44898, dtype: object"
      ]
     },
     "execution_count": 14,
     "metadata": {},
     "output_type": "execute_result"
    }
   ],
   "source": [
    "dataset['text']"
   ]
  },
  {
   "cell_type": "markdown",
   "id": "a0b01d31-77f3-42c5-9032-90b0e44a4ca6",
   "metadata": {},
   "source": [
    "**This above text is our data ^**"
   ]
  },
  {
   "cell_type": "code",
   "execution_count": 15,
   "id": "f50cc605-0aff-4cc5-b256-cdddd4aac27c",
   "metadata": {},
   "outputs": [],
   "source": [
    "## now we will clean it with the functionwe have created above ...\n",
    "dataset['text'] = dataset['text'].apply(lambda x : clean_row(x))"
   ]
  },
  {
   "cell_type": "code",
   "execution_count": 16,
   "id": "9215364d-39f2-4d38-ac1e-7780fc12b836",
   "metadata": {},
   "outputs": [
    {
     "data": {
      "text/plain": [
       "2430     white house spokesliar sean spicer demanded an...\n",
       "8132     greensboro n c reuters hillary clinton got bac...\n",
       "6289     new york reuters percent american would like s...\n",
       "21273    letter quite possibly important letter student...\n",
       "8635     yet another victim sexual abuse thank church i...\n",
       "                               ...                        \n",
       "9689     chicago reuters dozen illinois social service ...\n",
       "3764     donald trump named steve bannon chief policy s...\n",
       "7106     justin timberlake gave speech iheartradio musi...\n",
       "12678    said year radio tv print overriding issue amer...\n",
       "11154    watch united overbook flight decided force ran...\n",
       "Name: text, Length: 44898, dtype: object"
      ]
     },
     "execution_count": 16,
     "metadata": {},
     "output_type": "execute_result"
    }
   ],
   "source": [
    "dataset['text']"
   ]
  },
  {
   "cell_type": "markdown",
   "id": "2f8a95bc-276b-4707-8162-d65e0d1c77a6",
   "metadata": {},
   "source": [
    "**As we can see our data has been cleaned now - brackets , stopwords , repetative words all have been removed... ^**"
   ]
  },
  {
   "cell_type": "markdown",
   "id": "a71eba47-a52e-4ce4-a6c2-89962e613997",
   "metadata": {},
   "source": [
    "## Converting this data into Vectors"
   ]
  },
  {
   "cell_type": "code",
   "execution_count": 17,
   "id": "63cd4de9-ff00-4623-bc74-699776744357",
   "metadata": {},
   "outputs": [],
   "source": [
    "from sklearn.feature_extraction.text import TfidfVectorizer"
   ]
  },
  {
   "cell_type": "code",
   "execution_count": 18,
   "id": "f15cb6ec-e284-423e-89d0-21f88cfe63c9",
   "metadata": {},
   "outputs": [],
   "source": [
    "vectorizer = TfidfVectorizer(max_features = 50000 ,lowercase = False, ngram_range=(1,2))"
   ]
  },
  {
   "cell_type": "markdown",
   "id": "d596943a-9271-40c1-8627-735182ed2c29",
   "metadata": {},
   "source": [
    "**Lets train our datapoints on 35000 points and test rest of them**"
   ]
  },
  {
   "cell_type": "code",
   "execution_count": 19,
   "id": "536e9c07-533a-40e0-875c-8a5581c8b32c",
   "metadata": {},
   "outputs": [],
   "source": [
    "X = dataset.iloc[:35000, 0]\n",
    "y = dataset.iloc[:35000, 1]"
   ]
  },
  {
   "cell_type": "code",
   "execution_count": 20,
   "id": "e6556a49-da90-4b08-b830-763b00814e44",
   "metadata": {},
   "outputs": [
    {
     "data": {
      "text/plain": [
       "2430     white house spokesliar sean spicer demanded an...\n",
       "8132     greensboro n c reuters hillary clinton got bac...\n",
       "6289     new york reuters percent american would like s...\n",
       "21273    letter quite possibly important letter student...\n",
       "8635     yet another victim sexual abuse thank church i...\n",
       "                               ...                        \n",
       "4933     washington reuters president donald trump seni...\n",
       "11831    london reuters british man accused posting pic...\n",
       "13098                                                     \n",
       "20949    free speech attack america like never view opp...\n",
       "3869     election night november took everyone surprise...\n",
       "Name: text, Length: 35000, dtype: object"
      ]
     },
     "execution_count": 20,
     "metadata": {},
     "output_type": "execute_result"
    }
   ],
   "source": [
    "X"
   ]
  },
  {
   "cell_type": "code",
   "execution_count": 21,
   "id": "8af714fe-5464-4ed7-bdeb-bab2679c32a8",
   "metadata": {},
   "outputs": [
    {
     "data": {
      "text/plain": [
       "2430     1\n",
       "8132     0\n",
       "6289     0\n",
       "21273    1\n",
       "8635     1\n",
       "        ..\n",
       "4933     0\n",
       "11831    0\n",
       "13098    1\n",
       "20949    1\n",
       "3869     1\n",
       "Name: label, Length: 35000, dtype: int64"
      ]
     },
     "execution_count": 21,
     "metadata": {},
     "output_type": "execute_result"
    }
   ],
   "source": [
    "y"
   ]
  },
  {
   "cell_type": "code",
   "execution_count": 22,
   "id": "0d39bec7-38b7-4aea-be67-32c06121846a",
   "metadata": {},
   "outputs": [],
   "source": [
    "from sklearn.model_selection import train_test_split"
   ]
  },
  {
   "cell_type": "code",
   "execution_count": 23,
   "id": "46ebb710-7d56-40ba-b3ba-b9e209100bd2",
   "metadata": {},
   "outputs": [],
   "source": [
    "train_data ,test_data ,train_label ,test_label = train_test_split(X , y, test_size = 0.2, random_state =0)"
   ]
  },
  {
   "cell_type": "markdown",
   "id": "97d565cb-f621-4bd9-9d76-3f0f8c6929c1",
   "metadata": {},
   "source": [
    "**Lets Vectorize this datas...**"
   ]
  },
  {
   "cell_type": "code",
   "execution_count": 25,
   "id": "01800e0d-8f22-46a8-8f06-323235a85a4b",
   "metadata": {},
   "outputs": [],
   "source": [
    "# Training Data\n",
    "vec_train_data = vectorizer.fit_transform(train_data)"
   ]
  },
  {
   "cell_type": "code",
   "execution_count": 26,
   "id": "bcbbb80d-043e-4b87-b2e1-1eec1fd05dab",
   "metadata": {},
   "outputs": [],
   "source": [
    "vec_train_data = vec_train_data.toarray()"
   ]
  },
  {
   "cell_type": "code",
   "execution_count": 27,
   "id": "6ed3df9c-5e18-4f53-b96d-03ea3847dde9",
   "metadata": {},
   "outputs": [
    {
     "data": {
      "text/plain": [
       "numpy.ndarray"
      ]
     },
     "execution_count": 27,
     "metadata": {},
     "output_type": "execute_result"
    }
   ],
   "source": [
    "type(vec_train_data)"
   ]
  },
  {
   "cell_type": "code",
   "execution_count": 28,
   "id": "f45621cf-d9e6-4aff-a646-0c224fd29755",
   "metadata": {},
   "outputs": [],
   "source": [
    "#Testing Data\n",
    "vec_test_data = vectorizer.fit_transform(test_data)"
   ]
  },
  {
   "cell_type": "code",
   "execution_count": 29,
   "id": "64321e50-950e-4e08-a4df-011312f24bb4",
   "metadata": {},
   "outputs": [],
   "source": [
    "vec_test_data = vec_test_data.toarray()"
   ]
  },
  {
   "cell_type": "code",
   "execution_count": 30,
   "id": "370e37ee-2804-4635-a271-562d82307801",
   "metadata": {},
   "outputs": [
    {
     "data": {
      "text/plain": [
       "numpy.ndarray"
      ]
     },
     "execution_count": 30,
     "metadata": {},
     "output_type": "execute_result"
    }
   ],
   "source": [
    "type(vec_test_data)"
   ]
  },
  {
   "cell_type": "code",
   "execution_count": 31,
   "id": "cebdfd4d-b0b4-4f8e-b391-6bb8b0339439",
   "metadata": {},
   "outputs": [
    {
     "data": {
      "text/plain": [
       "((28000, 50000), (7000, 50000))"
      ]
     },
     "execution_count": 31,
     "metadata": {},
     "output_type": "execute_result"
    }
   ],
   "source": [
    "vec_train_data.shape,vec_test_data.shape"
   ]
  },
  {
   "cell_type": "markdown",
   "id": "9db3927c-2736-486c-bb1c-2ec5e7f86532",
   "metadata": {},
   "source": [
    "**Now we have converted the text data into datapoints in the array where data(word) has its own unique set of numbers**"
   ]
  },
  {
   "cell_type": "code",
   "execution_count": 32,
   "id": "2b8c831b-5436-4b0e-b762-c30dce0c202d",
   "metadata": {},
   "outputs": [
    {
     "data": {
      "text/plain": [
       "array([[0., 0., 0., ..., 0., 0., 0.],\n",
       "       [0., 0., 0., ..., 0., 0., 0.],\n",
       "       [0., 0., 0., ..., 0., 0., 0.],\n",
       "       ...,\n",
       "       [0., 0., 0., ..., 0., 0., 0.],\n",
       "       [0., 0., 0., ..., 0., 0., 0.],\n",
       "       [0., 0., 0., ..., 0., 0., 0.]])"
      ]
     },
     "execution_count": 32,
     "metadata": {},
     "output_type": "execute_result"
    }
   ],
   "source": [
    "vec_train_data"
   ]
  },
  {
   "cell_type": "code",
   "execution_count": 46,
   "id": "65a4e92c-8909-451d-abda-036692f242ee",
   "metadata": {},
   "outputs": [],
   "source": [
    "training_data = pd.DataFrame(vec_train_data , columns=vectorizer.get_feature_names_out())\n",
    "testing_data = pd.DataFrame(vec_test_data , columns=vectorizer.get_feature_names_out())"
   ]
  },
  {
   "cell_type": "code",
   "execution_count": 47,
   "id": "264f3196-4937-475d-ad84-3549abf8f549",
   "metadata": {},
   "outputs": [
    {
     "data": {
      "text/html": [
       "<div>\n",
       "<style scoped>\n",
       "    .dataframe tbody tr th:only-of-type {\n",
       "        vertical-align: middle;\n",
       "    }\n",
       "\n",
       "    .dataframe tbody tr th {\n",
       "        vertical-align: top;\n",
       "    }\n",
       "\n",
       "    .dataframe thead th {\n",
       "        text-align: right;\n",
       "    }\n",
       "</style>\n",
       "<table border=\"1\" class=\"dataframe\">\n",
       "  <thead>\n",
       "    <tr style=\"text-align: right;\">\n",
       "      <th></th>\n",
       "      <th>aaa</th>\n",
       "      <th>aapl</th>\n",
       "      <th>aaron</th>\n",
       "      <th>aaron klein</th>\n",
       "      <th>ab</th>\n",
       "      <th>ababa</th>\n",
       "      <th>abadi</th>\n",
       "      <th>abadi ordered</th>\n",
       "      <th>abadi said</th>\n",
       "      <th>abandon</th>\n",
       "      <th>...</th>\n",
       "      <th>zoo</th>\n",
       "      <th>zor</th>\n",
       "      <th>zor province</th>\n",
       "      <th>zschaepe</th>\n",
       "      <th>zucker</th>\n",
       "      <th>zuckerberg</th>\n",
       "      <th>zuckerberg said</th>\n",
       "      <th>zuma</th>\n",
       "      <th>zurich</th>\n",
       "      <th>zurich reuters</th>\n",
       "    </tr>\n",
       "  </thead>\n",
       "  <tbody>\n",
       "    <tr>\n",
       "      <th>0</th>\n",
       "      <td>0.0</td>\n",
       "      <td>0.0</td>\n",
       "      <td>0.0</td>\n",
       "      <td>0.0</td>\n",
       "      <td>0.0</td>\n",
       "      <td>0.0</td>\n",
       "      <td>0.0</td>\n",
       "      <td>0.0</td>\n",
       "      <td>0.0</td>\n",
       "      <td>0.0</td>\n",
       "      <td>...</td>\n",
       "      <td>0.0</td>\n",
       "      <td>0.0</td>\n",
       "      <td>0.0</td>\n",
       "      <td>0.0</td>\n",
       "      <td>0.0</td>\n",
       "      <td>0.0</td>\n",
       "      <td>0.0</td>\n",
       "      <td>0.0</td>\n",
       "      <td>0.0</td>\n",
       "      <td>0.0</td>\n",
       "    </tr>\n",
       "    <tr>\n",
       "      <th>1</th>\n",
       "      <td>0.0</td>\n",
       "      <td>0.0</td>\n",
       "      <td>0.0</td>\n",
       "      <td>0.0</td>\n",
       "      <td>0.0</td>\n",
       "      <td>0.0</td>\n",
       "      <td>0.0</td>\n",
       "      <td>0.0</td>\n",
       "      <td>0.0</td>\n",
       "      <td>0.0</td>\n",
       "      <td>...</td>\n",
       "      <td>0.0</td>\n",
       "      <td>0.0</td>\n",
       "      <td>0.0</td>\n",
       "      <td>0.0</td>\n",
       "      <td>0.0</td>\n",
       "      <td>0.0</td>\n",
       "      <td>0.0</td>\n",
       "      <td>0.0</td>\n",
       "      <td>0.0</td>\n",
       "      <td>0.0</td>\n",
       "    </tr>\n",
       "    <tr>\n",
       "      <th>2</th>\n",
       "      <td>0.0</td>\n",
       "      <td>0.0</td>\n",
       "      <td>0.0</td>\n",
       "      <td>0.0</td>\n",
       "      <td>0.0</td>\n",
       "      <td>0.0</td>\n",
       "      <td>0.0</td>\n",
       "      <td>0.0</td>\n",
       "      <td>0.0</td>\n",
       "      <td>0.0</td>\n",
       "      <td>...</td>\n",
       "      <td>0.0</td>\n",
       "      <td>0.0</td>\n",
       "      <td>0.0</td>\n",
       "      <td>0.0</td>\n",
       "      <td>0.0</td>\n",
       "      <td>0.0</td>\n",
       "      <td>0.0</td>\n",
       "      <td>0.0</td>\n",
       "      <td>0.0</td>\n",
       "      <td>0.0</td>\n",
       "    </tr>\n",
       "    <tr>\n",
       "      <th>3</th>\n",
       "      <td>0.0</td>\n",
       "      <td>0.0</td>\n",
       "      <td>0.0</td>\n",
       "      <td>0.0</td>\n",
       "      <td>0.0</td>\n",
       "      <td>0.0</td>\n",
       "      <td>0.0</td>\n",
       "      <td>0.0</td>\n",
       "      <td>0.0</td>\n",
       "      <td>0.0</td>\n",
       "      <td>...</td>\n",
       "      <td>0.0</td>\n",
       "      <td>0.0</td>\n",
       "      <td>0.0</td>\n",
       "      <td>0.0</td>\n",
       "      <td>0.0</td>\n",
       "      <td>0.0</td>\n",
       "      <td>0.0</td>\n",
       "      <td>0.0</td>\n",
       "      <td>0.0</td>\n",
       "      <td>0.0</td>\n",
       "    </tr>\n",
       "    <tr>\n",
       "      <th>4</th>\n",
       "      <td>0.0</td>\n",
       "      <td>0.0</td>\n",
       "      <td>0.0</td>\n",
       "      <td>0.0</td>\n",
       "      <td>0.0</td>\n",
       "      <td>0.0</td>\n",
       "      <td>0.0</td>\n",
       "      <td>0.0</td>\n",
       "      <td>0.0</td>\n",
       "      <td>0.0</td>\n",
       "      <td>...</td>\n",
       "      <td>0.0</td>\n",
       "      <td>0.0</td>\n",
       "      <td>0.0</td>\n",
       "      <td>0.0</td>\n",
       "      <td>0.0</td>\n",
       "      <td>0.0</td>\n",
       "      <td>0.0</td>\n",
       "      <td>0.0</td>\n",
       "      <td>0.0</td>\n",
       "      <td>0.0</td>\n",
       "    </tr>\n",
       "    <tr>\n",
       "      <th>...</th>\n",
       "      <td>...</td>\n",
       "      <td>...</td>\n",
       "      <td>...</td>\n",
       "      <td>...</td>\n",
       "      <td>...</td>\n",
       "      <td>...</td>\n",
       "      <td>...</td>\n",
       "      <td>...</td>\n",
       "      <td>...</td>\n",
       "      <td>...</td>\n",
       "      <td>...</td>\n",
       "      <td>...</td>\n",
       "      <td>...</td>\n",
       "      <td>...</td>\n",
       "      <td>...</td>\n",
       "      <td>...</td>\n",
       "      <td>...</td>\n",
       "      <td>...</td>\n",
       "      <td>...</td>\n",
       "      <td>...</td>\n",
       "      <td>...</td>\n",
       "    </tr>\n",
       "    <tr>\n",
       "      <th>27995</th>\n",
       "      <td>0.0</td>\n",
       "      <td>0.0</td>\n",
       "      <td>0.0</td>\n",
       "      <td>0.0</td>\n",
       "      <td>0.0</td>\n",
       "      <td>0.0</td>\n",
       "      <td>0.0</td>\n",
       "      <td>0.0</td>\n",
       "      <td>0.0</td>\n",
       "      <td>0.0</td>\n",
       "      <td>...</td>\n",
       "      <td>0.0</td>\n",
       "      <td>0.0</td>\n",
       "      <td>0.0</td>\n",
       "      <td>0.0</td>\n",
       "      <td>0.0</td>\n",
       "      <td>0.0</td>\n",
       "      <td>0.0</td>\n",
       "      <td>0.0</td>\n",
       "      <td>0.0</td>\n",
       "      <td>0.0</td>\n",
       "    </tr>\n",
       "    <tr>\n",
       "      <th>27996</th>\n",
       "      <td>0.0</td>\n",
       "      <td>0.0</td>\n",
       "      <td>0.0</td>\n",
       "      <td>0.0</td>\n",
       "      <td>0.0</td>\n",
       "      <td>0.0</td>\n",
       "      <td>0.0</td>\n",
       "      <td>0.0</td>\n",
       "      <td>0.0</td>\n",
       "      <td>0.0</td>\n",
       "      <td>...</td>\n",
       "      <td>0.0</td>\n",
       "      <td>0.0</td>\n",
       "      <td>0.0</td>\n",
       "      <td>0.0</td>\n",
       "      <td>0.0</td>\n",
       "      <td>0.0</td>\n",
       "      <td>0.0</td>\n",
       "      <td>0.0</td>\n",
       "      <td>0.0</td>\n",
       "      <td>0.0</td>\n",
       "    </tr>\n",
       "    <tr>\n",
       "      <th>27997</th>\n",
       "      <td>0.0</td>\n",
       "      <td>0.0</td>\n",
       "      <td>0.0</td>\n",
       "      <td>0.0</td>\n",
       "      <td>0.0</td>\n",
       "      <td>0.0</td>\n",
       "      <td>0.0</td>\n",
       "      <td>0.0</td>\n",
       "      <td>0.0</td>\n",
       "      <td>0.0</td>\n",
       "      <td>...</td>\n",
       "      <td>0.0</td>\n",
       "      <td>0.0</td>\n",
       "      <td>0.0</td>\n",
       "      <td>0.0</td>\n",
       "      <td>0.0</td>\n",
       "      <td>0.0</td>\n",
       "      <td>0.0</td>\n",
       "      <td>0.0</td>\n",
       "      <td>0.0</td>\n",
       "      <td>0.0</td>\n",
       "    </tr>\n",
       "    <tr>\n",
       "      <th>27998</th>\n",
       "      <td>0.0</td>\n",
       "      <td>0.0</td>\n",
       "      <td>0.0</td>\n",
       "      <td>0.0</td>\n",
       "      <td>0.0</td>\n",
       "      <td>0.0</td>\n",
       "      <td>0.0</td>\n",
       "      <td>0.0</td>\n",
       "      <td>0.0</td>\n",
       "      <td>0.0</td>\n",
       "      <td>...</td>\n",
       "      <td>0.0</td>\n",
       "      <td>0.0</td>\n",
       "      <td>0.0</td>\n",
       "      <td>0.0</td>\n",
       "      <td>0.0</td>\n",
       "      <td>0.0</td>\n",
       "      <td>0.0</td>\n",
       "      <td>0.0</td>\n",
       "      <td>0.0</td>\n",
       "      <td>0.0</td>\n",
       "    </tr>\n",
       "    <tr>\n",
       "      <th>27999</th>\n",
       "      <td>0.0</td>\n",
       "      <td>0.0</td>\n",
       "      <td>0.0</td>\n",
       "      <td>0.0</td>\n",
       "      <td>0.0</td>\n",
       "      <td>0.0</td>\n",
       "      <td>0.0</td>\n",
       "      <td>0.0</td>\n",
       "      <td>0.0</td>\n",
       "      <td>0.0</td>\n",
       "      <td>...</td>\n",
       "      <td>0.0</td>\n",
       "      <td>0.0</td>\n",
       "      <td>0.0</td>\n",
       "      <td>0.0</td>\n",
       "      <td>0.0</td>\n",
       "      <td>0.0</td>\n",
       "      <td>0.0</td>\n",
       "      <td>0.0</td>\n",
       "      <td>0.0</td>\n",
       "      <td>0.0</td>\n",
       "    </tr>\n",
       "  </tbody>\n",
       "</table>\n",
       "<p>28000 rows × 50000 columns</p>\n",
       "</div>"
      ],
      "text/plain": [
       "       aaa  aapl  aaron  aaron klein   ab  ababa  abadi  abadi ordered  \\\n",
       "0      0.0   0.0    0.0          0.0  0.0    0.0    0.0            0.0   \n",
       "1      0.0   0.0    0.0          0.0  0.0    0.0    0.0            0.0   \n",
       "2      0.0   0.0    0.0          0.0  0.0    0.0    0.0            0.0   \n",
       "3      0.0   0.0    0.0          0.0  0.0    0.0    0.0            0.0   \n",
       "4      0.0   0.0    0.0          0.0  0.0    0.0    0.0            0.0   \n",
       "...    ...   ...    ...          ...  ...    ...    ...            ...   \n",
       "27995  0.0   0.0    0.0          0.0  0.0    0.0    0.0            0.0   \n",
       "27996  0.0   0.0    0.0          0.0  0.0    0.0    0.0            0.0   \n",
       "27997  0.0   0.0    0.0          0.0  0.0    0.0    0.0            0.0   \n",
       "27998  0.0   0.0    0.0          0.0  0.0    0.0    0.0            0.0   \n",
       "27999  0.0   0.0    0.0          0.0  0.0    0.0    0.0            0.0   \n",
       "\n",
       "       abadi said  abandon  ...  zoo  zor  zor province  zschaepe  zucker  \\\n",
       "0             0.0      0.0  ...  0.0  0.0           0.0       0.0     0.0   \n",
       "1             0.0      0.0  ...  0.0  0.0           0.0       0.0     0.0   \n",
       "2             0.0      0.0  ...  0.0  0.0           0.0       0.0     0.0   \n",
       "3             0.0      0.0  ...  0.0  0.0           0.0       0.0     0.0   \n",
       "4             0.0      0.0  ...  0.0  0.0           0.0       0.0     0.0   \n",
       "...           ...      ...  ...  ...  ...           ...       ...     ...   \n",
       "27995         0.0      0.0  ...  0.0  0.0           0.0       0.0     0.0   \n",
       "27996         0.0      0.0  ...  0.0  0.0           0.0       0.0     0.0   \n",
       "27997         0.0      0.0  ...  0.0  0.0           0.0       0.0     0.0   \n",
       "27998         0.0      0.0  ...  0.0  0.0           0.0       0.0     0.0   \n",
       "27999         0.0      0.0  ...  0.0  0.0           0.0       0.0     0.0   \n",
       "\n",
       "       zuckerberg  zuckerberg said  zuma  zurich  zurich reuters  \n",
       "0             0.0              0.0   0.0     0.0             0.0  \n",
       "1             0.0              0.0   0.0     0.0             0.0  \n",
       "2             0.0              0.0   0.0     0.0             0.0  \n",
       "3             0.0              0.0   0.0     0.0             0.0  \n",
       "4             0.0              0.0   0.0     0.0             0.0  \n",
       "...           ...              ...   ...     ...             ...  \n",
       "27995         0.0              0.0   0.0     0.0             0.0  \n",
       "27996         0.0              0.0   0.0     0.0             0.0  \n",
       "27997         0.0              0.0   0.0     0.0             0.0  \n",
       "27998         0.0              0.0   0.0     0.0             0.0  \n",
       "27999         0.0              0.0   0.0     0.0             0.0  \n",
       "\n",
       "[28000 rows x 50000 columns]"
      ]
     },
     "execution_count": 47,
     "metadata": {},
     "output_type": "execute_result"
    }
   ],
   "source": [
    "training_data"
   ]
  },
  {
   "cell_type": "markdown",
   "id": "0a4d7b6f-6707-43f5-8df6-3e0e6472ad97",
   "metadata": {},
   "source": [
    "**As we can see above that each word has been encoded with a unique value**"
   ]
  },
  {
   "cell_type": "markdown",
   "id": "47d0a344-3492-4a15-8aa5-edad88bc6c26",
   "metadata": {},
   "source": [
    "**Now Train our data on Naive Buyers model**"
   ]
  },
  {
   "cell_type": "markdown",
   "id": "bc867c20-37df-48fc-90df-e4c66351b615",
   "metadata": {},
   "source": [
    "## MODEL"
   ]
  },
  {
   "cell_type": "code",
   "execution_count": 38,
   "id": "26d23b02-b1c4-4484-aa68-072da241c936",
   "metadata": {},
   "outputs": [],
   "source": [
    "from sklearn.naive_bayes import MultinomialNB"
   ]
  },
  {
   "cell_type": "code",
   "execution_count": 39,
   "id": "a7ef56de-eb45-4128-9d77-5e59ccef02bf",
   "metadata": {},
   "outputs": [],
   "source": [
    "clf = MultinomialNB()"
   ]
  },
  {
   "cell_type": "code",
   "execution_count": 48,
   "id": "679c7107-8f6a-495b-ac81-782e63aadce8",
   "metadata": {},
   "outputs": [
    {
     "data": {
      "text/html": [
       "<style>#sk-container-id-2 {\n",
       "  /* Definition of color scheme common for light and dark mode */\n",
       "  --sklearn-color-text: black;\n",
       "  --sklearn-color-line: gray;\n",
       "  /* Definition of color scheme for unfitted estimators */\n",
       "  --sklearn-color-unfitted-level-0: #fff5e6;\n",
       "  --sklearn-color-unfitted-level-1: #f6e4d2;\n",
       "  --sklearn-color-unfitted-level-2: #ffe0b3;\n",
       "  --sklearn-color-unfitted-level-3: chocolate;\n",
       "  /* Definition of color scheme for fitted estimators */\n",
       "  --sklearn-color-fitted-level-0: #f0f8ff;\n",
       "  --sklearn-color-fitted-level-1: #d4ebff;\n",
       "  --sklearn-color-fitted-level-2: #b3dbfd;\n",
       "  --sklearn-color-fitted-level-3: cornflowerblue;\n",
       "\n",
       "  /* Specific color for light theme */\n",
       "  --sklearn-color-text-on-default-background: var(--sg-text-color, var(--theme-code-foreground, var(--jp-content-font-color1, black)));\n",
       "  --sklearn-color-background: var(--sg-background-color, var(--theme-background, var(--jp-layout-color0, white)));\n",
       "  --sklearn-color-border-box: var(--sg-text-color, var(--theme-code-foreground, var(--jp-content-font-color1, black)));\n",
       "  --sklearn-color-icon: #696969;\n",
       "\n",
       "  @media (prefers-color-scheme: dark) {\n",
       "    /* Redefinition of color scheme for dark theme */\n",
       "    --sklearn-color-text-on-default-background: var(--sg-text-color, var(--theme-code-foreground, var(--jp-content-font-color1, white)));\n",
       "    --sklearn-color-background: var(--sg-background-color, var(--theme-background, var(--jp-layout-color0, #111)));\n",
       "    --sklearn-color-border-box: var(--sg-text-color, var(--theme-code-foreground, var(--jp-content-font-color1, white)));\n",
       "    --sklearn-color-icon: #878787;\n",
       "  }\n",
       "}\n",
       "\n",
       "#sk-container-id-2 {\n",
       "  color: var(--sklearn-color-text);\n",
       "}\n",
       "\n",
       "#sk-container-id-2 pre {\n",
       "  padding: 0;\n",
       "}\n",
       "\n",
       "#sk-container-id-2 input.sk-hidden--visually {\n",
       "  border: 0;\n",
       "  clip: rect(1px 1px 1px 1px);\n",
       "  clip: rect(1px, 1px, 1px, 1px);\n",
       "  height: 1px;\n",
       "  margin: -1px;\n",
       "  overflow: hidden;\n",
       "  padding: 0;\n",
       "  position: absolute;\n",
       "  width: 1px;\n",
       "}\n",
       "\n",
       "#sk-container-id-2 div.sk-dashed-wrapped {\n",
       "  border: 1px dashed var(--sklearn-color-line);\n",
       "  margin: 0 0.4em 0.5em 0.4em;\n",
       "  box-sizing: border-box;\n",
       "  padding-bottom: 0.4em;\n",
       "  background-color: var(--sklearn-color-background);\n",
       "}\n",
       "\n",
       "#sk-container-id-2 div.sk-container {\n",
       "  /* jupyter's `normalize.less` sets `[hidden] { display: none; }`\n",
       "     but bootstrap.min.css set `[hidden] { display: none !important; }`\n",
       "     so we also need the `!important` here to be able to override the\n",
       "     default hidden behavior on the sphinx rendered scikit-learn.org.\n",
       "     See: https://github.com/scikit-learn/scikit-learn/issues/21755 */\n",
       "  display: inline-block !important;\n",
       "  position: relative;\n",
       "}\n",
       "\n",
       "#sk-container-id-2 div.sk-text-repr-fallback {\n",
       "  display: none;\n",
       "}\n",
       "\n",
       "div.sk-parallel-item,\n",
       "div.sk-serial,\n",
       "div.sk-item {\n",
       "  /* draw centered vertical line to link estimators */\n",
       "  background-image: linear-gradient(var(--sklearn-color-text-on-default-background), var(--sklearn-color-text-on-default-background));\n",
       "  background-size: 2px 100%;\n",
       "  background-repeat: no-repeat;\n",
       "  background-position: center center;\n",
       "}\n",
       "\n",
       "/* Parallel-specific style estimator block */\n",
       "\n",
       "#sk-container-id-2 div.sk-parallel-item::after {\n",
       "  content: \"\";\n",
       "  width: 100%;\n",
       "  border-bottom: 2px solid var(--sklearn-color-text-on-default-background);\n",
       "  flex-grow: 1;\n",
       "}\n",
       "\n",
       "#sk-container-id-2 div.sk-parallel {\n",
       "  display: flex;\n",
       "  align-items: stretch;\n",
       "  justify-content: center;\n",
       "  background-color: var(--sklearn-color-background);\n",
       "  position: relative;\n",
       "}\n",
       "\n",
       "#sk-container-id-2 div.sk-parallel-item {\n",
       "  display: flex;\n",
       "  flex-direction: column;\n",
       "}\n",
       "\n",
       "#sk-container-id-2 div.sk-parallel-item:first-child::after {\n",
       "  align-self: flex-end;\n",
       "  width: 50%;\n",
       "}\n",
       "\n",
       "#sk-container-id-2 div.sk-parallel-item:last-child::after {\n",
       "  align-self: flex-start;\n",
       "  width: 50%;\n",
       "}\n",
       "\n",
       "#sk-container-id-2 div.sk-parallel-item:only-child::after {\n",
       "  width: 0;\n",
       "}\n",
       "\n",
       "/* Serial-specific style estimator block */\n",
       "\n",
       "#sk-container-id-2 div.sk-serial {\n",
       "  display: flex;\n",
       "  flex-direction: column;\n",
       "  align-items: center;\n",
       "  background-color: var(--sklearn-color-background);\n",
       "  padding-right: 1em;\n",
       "  padding-left: 1em;\n",
       "}\n",
       "\n",
       "\n",
       "/* Toggleable style: style used for estimator/Pipeline/ColumnTransformer box that is\n",
       "clickable and can be expanded/collapsed.\n",
       "- Pipeline and ColumnTransformer use this feature and define the default style\n",
       "- Estimators will overwrite some part of the style using the `sk-estimator` class\n",
       "*/\n",
       "\n",
       "/* Pipeline and ColumnTransformer style (default) */\n",
       "\n",
       "#sk-container-id-2 div.sk-toggleable {\n",
       "  /* Default theme specific background. It is overwritten whether we have a\n",
       "  specific estimator or a Pipeline/ColumnTransformer */\n",
       "  background-color: var(--sklearn-color-background);\n",
       "}\n",
       "\n",
       "/* Toggleable label */\n",
       "#sk-container-id-2 label.sk-toggleable__label {\n",
       "  cursor: pointer;\n",
       "  display: block;\n",
       "  width: 100%;\n",
       "  margin-bottom: 0;\n",
       "  padding: 0.5em;\n",
       "  box-sizing: border-box;\n",
       "  text-align: center;\n",
       "}\n",
       "\n",
       "#sk-container-id-2 label.sk-toggleable__label-arrow:before {\n",
       "  /* Arrow on the left of the label */\n",
       "  content: \"▸\";\n",
       "  float: left;\n",
       "  margin-right: 0.25em;\n",
       "  color: var(--sklearn-color-icon);\n",
       "}\n",
       "\n",
       "#sk-container-id-2 label.sk-toggleable__label-arrow:hover:before {\n",
       "  color: var(--sklearn-color-text);\n",
       "}\n",
       "\n",
       "/* Toggleable content - dropdown */\n",
       "\n",
       "#sk-container-id-2 div.sk-toggleable__content {\n",
       "  max-height: 0;\n",
       "  max-width: 0;\n",
       "  overflow: hidden;\n",
       "  text-align: left;\n",
       "  /* unfitted */\n",
       "  background-color: var(--sklearn-color-unfitted-level-0);\n",
       "}\n",
       "\n",
       "#sk-container-id-2 div.sk-toggleable__content.fitted {\n",
       "  /* fitted */\n",
       "  background-color: var(--sklearn-color-fitted-level-0);\n",
       "}\n",
       "\n",
       "#sk-container-id-2 div.sk-toggleable__content pre {\n",
       "  margin: 0.2em;\n",
       "  border-radius: 0.25em;\n",
       "  color: var(--sklearn-color-text);\n",
       "  /* unfitted */\n",
       "  background-color: var(--sklearn-color-unfitted-level-0);\n",
       "}\n",
       "\n",
       "#sk-container-id-2 div.sk-toggleable__content.fitted pre {\n",
       "  /* unfitted */\n",
       "  background-color: var(--sklearn-color-fitted-level-0);\n",
       "}\n",
       "\n",
       "#sk-container-id-2 input.sk-toggleable__control:checked~div.sk-toggleable__content {\n",
       "  /* Expand drop-down */\n",
       "  max-height: 200px;\n",
       "  max-width: 100%;\n",
       "  overflow: auto;\n",
       "}\n",
       "\n",
       "#sk-container-id-2 input.sk-toggleable__control:checked~label.sk-toggleable__label-arrow:before {\n",
       "  content: \"▾\";\n",
       "}\n",
       "\n",
       "/* Pipeline/ColumnTransformer-specific style */\n",
       "\n",
       "#sk-container-id-2 div.sk-label input.sk-toggleable__control:checked~label.sk-toggleable__label {\n",
       "  color: var(--sklearn-color-text);\n",
       "  background-color: var(--sklearn-color-unfitted-level-2);\n",
       "}\n",
       "\n",
       "#sk-container-id-2 div.sk-label.fitted input.sk-toggleable__control:checked~label.sk-toggleable__label {\n",
       "  background-color: var(--sklearn-color-fitted-level-2);\n",
       "}\n",
       "\n",
       "/* Estimator-specific style */\n",
       "\n",
       "/* Colorize estimator box */\n",
       "#sk-container-id-2 div.sk-estimator input.sk-toggleable__control:checked~label.sk-toggleable__label {\n",
       "  /* unfitted */\n",
       "  background-color: var(--sklearn-color-unfitted-level-2);\n",
       "}\n",
       "\n",
       "#sk-container-id-2 div.sk-estimator.fitted input.sk-toggleable__control:checked~label.sk-toggleable__label {\n",
       "  /* fitted */\n",
       "  background-color: var(--sklearn-color-fitted-level-2);\n",
       "}\n",
       "\n",
       "#sk-container-id-2 div.sk-label label.sk-toggleable__label,\n",
       "#sk-container-id-2 div.sk-label label {\n",
       "  /* The background is the default theme color */\n",
       "  color: var(--sklearn-color-text-on-default-background);\n",
       "}\n",
       "\n",
       "/* On hover, darken the color of the background */\n",
       "#sk-container-id-2 div.sk-label:hover label.sk-toggleable__label {\n",
       "  color: var(--sklearn-color-text);\n",
       "  background-color: var(--sklearn-color-unfitted-level-2);\n",
       "}\n",
       "\n",
       "/* Label box, darken color on hover, fitted */\n",
       "#sk-container-id-2 div.sk-label.fitted:hover label.sk-toggleable__label.fitted {\n",
       "  color: var(--sklearn-color-text);\n",
       "  background-color: var(--sklearn-color-fitted-level-2);\n",
       "}\n",
       "\n",
       "/* Estimator label */\n",
       "\n",
       "#sk-container-id-2 div.sk-label label {\n",
       "  font-family: monospace;\n",
       "  font-weight: bold;\n",
       "  display: inline-block;\n",
       "  line-height: 1.2em;\n",
       "}\n",
       "\n",
       "#sk-container-id-2 div.sk-label-container {\n",
       "  text-align: center;\n",
       "}\n",
       "\n",
       "/* Estimator-specific */\n",
       "#sk-container-id-2 div.sk-estimator {\n",
       "  font-family: monospace;\n",
       "  border: 1px dotted var(--sklearn-color-border-box);\n",
       "  border-radius: 0.25em;\n",
       "  box-sizing: border-box;\n",
       "  margin-bottom: 0.5em;\n",
       "  /* unfitted */\n",
       "  background-color: var(--sklearn-color-unfitted-level-0);\n",
       "}\n",
       "\n",
       "#sk-container-id-2 div.sk-estimator.fitted {\n",
       "  /* fitted */\n",
       "  background-color: var(--sklearn-color-fitted-level-0);\n",
       "}\n",
       "\n",
       "/* on hover */\n",
       "#sk-container-id-2 div.sk-estimator:hover {\n",
       "  /* unfitted */\n",
       "  background-color: var(--sklearn-color-unfitted-level-2);\n",
       "}\n",
       "\n",
       "#sk-container-id-2 div.sk-estimator.fitted:hover {\n",
       "  /* fitted */\n",
       "  background-color: var(--sklearn-color-fitted-level-2);\n",
       "}\n",
       "\n",
       "/* Specification for estimator info (e.g. \"i\" and \"?\") */\n",
       "\n",
       "/* Common style for \"i\" and \"?\" */\n",
       "\n",
       ".sk-estimator-doc-link,\n",
       "a:link.sk-estimator-doc-link,\n",
       "a:visited.sk-estimator-doc-link {\n",
       "  float: right;\n",
       "  font-size: smaller;\n",
       "  line-height: 1em;\n",
       "  font-family: monospace;\n",
       "  background-color: var(--sklearn-color-background);\n",
       "  border-radius: 1em;\n",
       "  height: 1em;\n",
       "  width: 1em;\n",
       "  text-decoration: none !important;\n",
       "  margin-left: 1ex;\n",
       "  /* unfitted */\n",
       "  border: var(--sklearn-color-unfitted-level-1) 1pt solid;\n",
       "  color: var(--sklearn-color-unfitted-level-1);\n",
       "}\n",
       "\n",
       ".sk-estimator-doc-link.fitted,\n",
       "a:link.sk-estimator-doc-link.fitted,\n",
       "a:visited.sk-estimator-doc-link.fitted {\n",
       "  /* fitted */\n",
       "  border: var(--sklearn-color-fitted-level-1) 1pt solid;\n",
       "  color: var(--sklearn-color-fitted-level-1);\n",
       "}\n",
       "\n",
       "/* On hover */\n",
       "div.sk-estimator:hover .sk-estimator-doc-link:hover,\n",
       ".sk-estimator-doc-link:hover,\n",
       "div.sk-label-container:hover .sk-estimator-doc-link:hover,\n",
       ".sk-estimator-doc-link:hover {\n",
       "  /* unfitted */\n",
       "  background-color: var(--sklearn-color-unfitted-level-3);\n",
       "  color: var(--sklearn-color-background);\n",
       "  text-decoration: none;\n",
       "}\n",
       "\n",
       "div.sk-estimator.fitted:hover .sk-estimator-doc-link.fitted:hover,\n",
       ".sk-estimator-doc-link.fitted:hover,\n",
       "div.sk-label-container:hover .sk-estimator-doc-link.fitted:hover,\n",
       ".sk-estimator-doc-link.fitted:hover {\n",
       "  /* fitted */\n",
       "  background-color: var(--sklearn-color-fitted-level-3);\n",
       "  color: var(--sklearn-color-background);\n",
       "  text-decoration: none;\n",
       "}\n",
       "\n",
       "/* Span, style for the box shown on hovering the info icon */\n",
       ".sk-estimator-doc-link span {\n",
       "  display: none;\n",
       "  z-index: 9999;\n",
       "  position: relative;\n",
       "  font-weight: normal;\n",
       "  right: .2ex;\n",
       "  padding: .5ex;\n",
       "  margin: .5ex;\n",
       "  width: min-content;\n",
       "  min-width: 20ex;\n",
       "  max-width: 50ex;\n",
       "  color: var(--sklearn-color-text);\n",
       "  box-shadow: 2pt 2pt 4pt #999;\n",
       "  /* unfitted */\n",
       "  background: var(--sklearn-color-unfitted-level-0);\n",
       "  border: .5pt solid var(--sklearn-color-unfitted-level-3);\n",
       "}\n",
       "\n",
       ".sk-estimator-doc-link.fitted span {\n",
       "  /* fitted */\n",
       "  background: var(--sklearn-color-fitted-level-0);\n",
       "  border: var(--sklearn-color-fitted-level-3);\n",
       "}\n",
       "\n",
       ".sk-estimator-doc-link:hover span {\n",
       "  display: block;\n",
       "}\n",
       "\n",
       "/* \"?\"-specific style due to the `<a>` HTML tag */\n",
       "\n",
       "#sk-container-id-2 a.estimator_doc_link {\n",
       "  float: right;\n",
       "  font-size: 1rem;\n",
       "  line-height: 1em;\n",
       "  font-family: monospace;\n",
       "  background-color: var(--sklearn-color-background);\n",
       "  border-radius: 1rem;\n",
       "  height: 1rem;\n",
       "  width: 1rem;\n",
       "  text-decoration: none;\n",
       "  /* unfitted */\n",
       "  color: var(--sklearn-color-unfitted-level-1);\n",
       "  border: var(--sklearn-color-unfitted-level-1) 1pt solid;\n",
       "}\n",
       "\n",
       "#sk-container-id-2 a.estimator_doc_link.fitted {\n",
       "  /* fitted */\n",
       "  border: var(--sklearn-color-fitted-level-1) 1pt solid;\n",
       "  color: var(--sklearn-color-fitted-level-1);\n",
       "}\n",
       "\n",
       "/* On hover */\n",
       "#sk-container-id-2 a.estimator_doc_link:hover {\n",
       "  /* unfitted */\n",
       "  background-color: var(--sklearn-color-unfitted-level-3);\n",
       "  color: var(--sklearn-color-background);\n",
       "  text-decoration: none;\n",
       "}\n",
       "\n",
       "#sk-container-id-2 a.estimator_doc_link.fitted:hover {\n",
       "  /* fitted */\n",
       "  background-color: var(--sklearn-color-fitted-level-3);\n",
       "}\n",
       "</style><div id=\"sk-container-id-2\" class=\"sk-top-container\"><div class=\"sk-text-repr-fallback\"><pre>MultinomialNB()</pre><b>In a Jupyter environment, please rerun this cell to show the HTML representation or trust the notebook. <br />On GitHub, the HTML representation is unable to render, please try loading this page with nbviewer.org.</b></div><div class=\"sk-container\" hidden><div class=\"sk-item\"><div class=\"sk-estimator fitted sk-toggleable\"><input class=\"sk-toggleable__control sk-hidden--visually\" id=\"sk-estimator-id-2\" type=\"checkbox\" checked><label for=\"sk-estimator-id-2\" class=\"sk-toggleable__label fitted sk-toggleable__label-arrow fitted\">&nbsp;&nbsp;MultinomialNB<a class=\"sk-estimator-doc-link fitted\" rel=\"noreferrer\" target=\"_blank\" href=\"https://scikit-learn.org/1.5/modules/generated/sklearn.naive_bayes.MultinomialNB.html\">?<span>Documentation for MultinomialNB</span></a><span class=\"sk-estimator-doc-link fitted\">i<span>Fitted</span></span></label><div class=\"sk-toggleable__content fitted\"><pre>MultinomialNB()</pre></div> </div></div></div></div>"
      ],
      "text/plain": [
       "MultinomialNB()"
      ]
     },
     "execution_count": 48,
     "metadata": {},
     "output_type": "execute_result"
    }
   ],
   "source": [
    "clf.fit(training_data ,train_label)"
   ]
  },
  {
   "cell_type": "code",
   "execution_count": 50,
   "id": "87320fac-9306-4ffd-8fd0-56d77be6f41a",
   "metadata": {},
   "outputs": [],
   "source": [
    "y_pred = clf.predict(testing_data)"
   ]
  },
  {
   "cell_type": "code",
   "execution_count": 53,
   "id": "71d19f47-4bf0-4c71-9384-c6c53444634e",
   "metadata": {},
   "outputs": [
    {
     "data": {
      "text/plain": [
       "array([1, 0, 0, ..., 1, 0, 0], dtype=int64)"
      ]
     },
     "execution_count": 53,
     "metadata": {},
     "output_type": "execute_result"
    }
   ],
   "source": [
    "## Thus we are predicting the data \n",
    "y_pred"
   ]
  },
  {
   "cell_type": "code",
   "execution_count": 54,
   "id": "ba5b17e8-c9d4-4567-b0f5-ad389b3ba765",
   "metadata": {},
   "outputs": [
    {
     "data": {
      "text/plain": [
       "8302     0\n",
       "19837    0\n",
       "9282     0\n",
       "394      0\n",
       "9975     0\n",
       "        ..\n",
       "12227    0\n",
       "20579    0\n",
       "12262    0\n",
       "15473    0\n",
       "21329    1\n",
       "Name: label, Length: 7000, dtype: int64"
      ]
     },
     "execution_count": 54,
     "metadata": {},
     "output_type": "execute_result"
    }
   ],
   "source": [
    "test_label"
   ]
  },
  {
   "cell_type": "markdown",
   "id": "1eabe2de-1ce6-4e5d-88cd-83eac45a0796",
   "metadata": {},
   "source": [
    "**Now Checking the Accuracy...**"
   ]
  },
  {
   "cell_type": "code",
   "execution_count": 55,
   "id": "f2ddbfa3-cdc6-496e-ba3c-d269348c88fa",
   "metadata": {},
   "outputs": [],
   "source": [
    "from sklearn.metrics import accuracy_score"
   ]
  },
  {
   "cell_type": "code",
   "execution_count": 56,
   "id": "b4957cd2-82c2-4ff7-a696-7466f524779a",
   "metadata": {},
   "outputs": [
    {
     "data": {
      "text/plain": [
       "0.6664285714285715"
      ]
     },
     "execution_count": 56,
     "metadata": {},
     "output_type": "execute_result"
    }
   ],
   "source": [
    "accuracy_score(test_label, y_pred)"
   ]
  },
  {
   "cell_type": "markdown",
   "id": "458e14d1-692a-41ce-96d5-f027f8a62fac",
   "metadata": {},
   "source": [
    "**Thus the accuracy we got is ^**"
   ]
  },
  {
   "cell_type": "markdown",
   "id": "2f8c1a0f-a445-446d-9819-0afb3de9d6bb",
   "metadata": {},
   "source": [
    "**lets check the training accuracy also**"
   ]
  },
  {
   "cell_type": "code",
   "execution_count": 57,
   "id": "b39f867e-11f6-447c-963a-1b744c0be7eb",
   "metadata": {},
   "outputs": [],
   "source": [
    "y_pred_train = clf.predict(training_data)"
   ]
  },
  {
   "cell_type": "code",
   "execution_count": 58,
   "id": "693b5bf8-9fb3-44cb-9e74-f6691c746c03",
   "metadata": {},
   "outputs": [
    {
     "data": {
      "text/plain": [
       "0.9585"
      ]
     },
     "execution_count": 58,
     "metadata": {},
     "output_type": "execute_result"
    }
   ],
   "source": [
    "accuracy_score(train_label, y_pred_train)"
   ]
  },
  {
   "cell_type": "markdown",
   "id": "81506114-bdab-432c-8358-9bed0bb14af7",
   "metadata": {},
   "source": [
    "**Now lets take a random data point(row) from the dataset and predict it...**"
   ]
  },
  {
   "cell_type": "code",
   "execution_count": 65,
   "id": "bc54bb74-9253-4c8d-9f39-24965e41306e",
   "metadata": {},
   "outputs": [
    {
     "name": "stderr",
     "output_type": "stream",
     "text": [
      "C:\\Users\\ASUS\\anaconda3\\Lib\\site-packages\\sklearn\\base.py:493: UserWarning: X does not have valid feature names, but MultinomialNB was fitted with feature names\n",
      "  warnings.warn(\n"
     ]
    }
   ],
   "source": [
    "txt = 'Donald Trump s scandal-ridden, chaotic White House has recently been thrown into further disarray as people who worked on his campaign have faced indictments from Special Counsel Robert Mueller s team. His former Campaign Chair Paul Manafort was taken into federal custody this past Monday, as was Manafort s sidekick and Trump adviser Rick Gates. Foreign policy adviser George Padadopuolos pled guilty to charges he was facing, and is now cooperating with Mueller s team. Now, NBC News is reporting that disgraced former National Security Adviser Michael Flynn is under Mueller s gun as well, because there is now enough evidence to charge Flynn in this oh so hot investigation into collusion between the Trump campaign and the Russian government.According to NBC News, Mueller is pressuring Flynn to cooperate, because there is a person near and dear to Flynn s heart who could be in trouble: His own son, Michael G. Flynn. The younger Michael Flynn worked on the campaign and the Trump transition team. If the elder Flynn cooperates with Team Mueller, he just might be able to save his son from hard prison time. Most parents would definitely be up for limiting the legal consequences of something this serious for their children. This is very bad news for the Trump White House, because Michael Flynn was very close to Donald Trump during the campaign and worked in the White House as National Security Adviser for 24 days. He clearly knows a lot, and if it means that sharing that information would keep his son out of federal prison, he ll likely be more than willing to share that information with Special Counsel Robert Mueller s team.This is all very bad news for the Trump White House, but very good news for the country. The more people Mueller flips, the closer we are to removing this criminal administration.This is a developing story. Stay tuned to Addicting Info for updates.Featured image via Kevin Hagen/Getty Images'\n",
    "news = clean_row(txt)\n",
    "pred = clf.predict(vectorizer.transform([news]).toarray())"
   ]
  },
  {
   "cell_type": "code",
   "execution_count": 66,
   "id": "5472c4c9-fa2a-455b-b117-3b09e0c9a6a9",
   "metadata": {},
   "outputs": [
    {
     "name": "stdout",
     "output_type": "stream",
     "text": [
      "News is Fake !\n"
     ]
    }
   ],
   "source": [
    "pred\n",
    "if pred == 0:\n",
    "    print(\"News is Correct !\")\n",
    "else:\n",
    "    print (\"News is Fake !\")"
   ]
  },
  {
   "cell_type": "markdown",
   "id": "1d09c165-4c1c-4910-ad10-cfda03b567d7",
   "metadata": {},
   "source": [
    "### Not only this but we can test it for any data even news from online/google and testif it's true or not "
   ]
  },
  {
   "cell_type": "code",
   "execution_count": null,
   "id": "411efcae-f05d-4745-b25a-4e630e27f83c",
   "metadata": {},
   "outputs": [],
   "source": []
  }
 ],
 "metadata": {
  "kernelspec": {
   "display_name": "Python [conda env:base] *",
   "language": "python",
   "name": "conda-base-py"
  },
  "language_info": {
   "codemirror_mode": {
    "name": "ipython",
    "version": 3
   },
   "file_extension": ".py",
   "mimetype": "text/x-python",
   "name": "python",
   "nbconvert_exporter": "python",
   "pygments_lexer": "ipython3",
   "version": "3.12.7"
  }
 },
 "nbformat": 4,
 "nbformat_minor": 5
}
